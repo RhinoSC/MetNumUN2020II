{
  "nbformat": 4,
  "nbformat_minor": 0,
  "metadata": {
    "colab": {
      "name": "Laboratorio-6.ipynb",
      "provenance": []
    },
    "kernelspec": {
      "name": "python3",
      "display_name": "Python 3"
    }
  },
  "cells": [
    {
      "cell_type": "code",
      "metadata": {
        "id": "T0N8cOqHIUmZ"
      },
      "source": [
        "import numpy as np"
      ],
      "execution_count": null,
      "outputs": []
    },
    {
      "cell_type": "code",
      "metadata": {
        "id": "6wHkalJAL7po"
      },
      "source": [
        "def gen_matrix(var,cons):    \n",
        "    tab = np.zeros((cons+1, var+cons+2))    \n",
        "    return tab"
      ],
      "execution_count": null,
      "outputs": []
    },
    {
      "cell_type": "code",
      "metadata": {
        "id": "KHFMOk0RMQyG"
      },
      "source": [
        "def next_round_r(table):    \n",
        "    m = min(table[:-1,-1])    \n",
        "    if m>= 0:        \n",
        "        return False    \n",
        "    else:        \n",
        "        return True"
      ],
      "execution_count": null,
      "outputs": []
    },
    {
      "cell_type": "code",
      "metadata": {
        "id": "v42ckVNHhvZ7"
      },
      "source": [
        "def next_round(table):    \n",
        "    lr = len(table[:,0])   \n",
        "    m = min(table[lr-1,:-1])    \n",
        "    if m>=0:\n",
        "        return False\n",
        "    else:\n",
        "        return True"
      ],
      "execution_count": null,
      "outputs": []
    },
    {
      "cell_type": "code",
      "metadata": {
        "id": "B0oSo4MOMtxX"
      },
      "source": [
        "def find_neg_r(table):\n",
        "    lc = len(table[0,:])\n",
        "    m = min(table[:-1,lc-1])\n",
        "    if m<=0:        \n",
        "        n = np.where(table[:-1,lc-1] == m)[0][0]\n",
        "    else:\n",
        "        n = None\n",
        "    return n"
      ],
      "execution_count": null,
      "outputs": []
    },
    {
      "cell_type": "code",
      "metadata": {
        "id": "b1G6ViiWM8Sm"
      },
      "source": [
        "def find_neg(table):\n",
        "    lr = len(table[:,0])\n",
        "    m = min(table[lr-1,:-1])\n",
        "    if m<=0:\n",
        "        n = np.where(table[lr-1,:-1] == m)[0][0]\n",
        "    else:\n",
        "        n = None\n",
        "    return n"
      ],
      "execution_count": null,
      "outputs": []
    },
    {
      "cell_type": "code",
      "metadata": {
        "id": "QFtWns4nNggP"
      },
      "source": [
        "def loc_piv_r(table):\n",
        "    total = []        \n",
        "    r = find_neg_r(table)\n",
        "    row = table[r,:-1]\n",
        "    m = min(row)\n",
        "    c = np.where(row == m)[0][0]\n",
        "    col = table[:-1,c]\n",
        "    for i, b in zip(col,table[:-1,-1]):\n",
        "        if i**2>0 and b/i>0:\n",
        "            total.append(b/i)\n",
        "        else:                \n",
        "            total.append(10000)\n",
        "    index = total.index(min(total))        \n",
        "    return [index,c]"
      ],
      "execution_count": null,
      "outputs": []
    },
    {
      "cell_type": "code",
      "metadata": {
        "id": "9n5iQj-sN9R4"
      },
      "source": [
        "def loc_piv(table):\n",
        "    if next_round(table):\n",
        "        total = []\n",
        "        n = find_neg(table)\n",
        "        for i,b in zip(table[:-1,n],table[:-1,-1]):\n",
        "            if i != 0 and (b/i >0 and i**2>0):                  #:)\n",
        "                total.append(b/i)\n",
        "            else:\n",
        "                total.append(10000)\n",
        "        index = total.index(min(total))\n",
        "        return [index,n]"
      ],
      "execution_count": null,
      "outputs": []
    },
    {
      "cell_type": "code",
      "metadata": {
        "id": "KSy1CfZWPPE4"
      },
      "source": [
        "def pivot(row,col,table):\n",
        "    lr = len(table[:,0])\n",
        "    lc = len(table[0,:])\n",
        "    t = np.zeros((lr,lc))\n",
        "    pr = table[row,:]\n",
        "    if table[row,col]**2>0:\n",
        "        e = 1/table[row,col]\n",
        "        r = pr*e\n",
        "        for i in range(len(table[:,col])):\n",
        "            k = table[i,:]\n",
        "            c = table[i,col]\n",
        "            if list(k) == list(pr):\n",
        "                continue\n",
        "            else:\n",
        "                t[i,:] = list(k-r*c)\n",
        "        t[row,:] = list(r)\n",
        "        return t\n",
        "    else:\n",
        "        print('Cannot pivot on this element.')"
      ],
      "execution_count": null,
      "outputs": []
    },
    {
      "cell_type": "code",
      "metadata": {
        "id": "auPIn03ERidS"
      },
      "source": [
        "def convert(eq):\n",
        "    eq = eq.split(',')\n",
        "    if 'G' in eq:\n",
        "        g = eq.index('G')\n",
        "        del eq[g]\n",
        "        eq = [float(i)*-1 for i in eq]\n",
        "        return eq\n",
        "    if 'L' in eq:\n",
        "        l = eq.index('L')\n",
        "        del eq[l]\n",
        "        eq = [float(i) for i in eq]\n",
        "        return eq"
      ],
      "execution_count": null,
      "outputs": []
    },
    {
      "cell_type": "code",
      "metadata": {
        "id": "UQO3jiVAR1Tg"
      },
      "source": [
        "def convert_min(table):\n",
        "    table[-1,:-2] = [-1*i for i in table[-1,:-2]]\n",
        "    table[-1,-1] = -1*table[-1,-1]    \n",
        "    return table"
      ],
      "execution_count": null,
      "outputs": []
    },
    {
      "cell_type": "code",
      "metadata": {
        "id": "kNVu8lYHSUkX"
      },
      "source": [
        "def gen_var(table):\n",
        "    lc = len(table[0,:])\n",
        "    lr = len(table[:,0])\n",
        "    var = lc - lr -1\n",
        "    v = []\n",
        "    for i in range(var):\n",
        "        v.append('x'+str(i+1))\n",
        "    return v"
      ],
      "execution_count": null,
      "outputs": []
    },
    {
      "cell_type": "code",
      "metadata": {
        "id": "2LNCQEpRSkKp"
      },
      "source": [
        "def add_cons(table):\n",
        "    lr = len(table[:,0])\n",
        "    empty = []\n",
        "    for i in range(lr):\n",
        "        total = 0\n",
        "        for j in table[i,:]:                       \n",
        "            total += j**2\n",
        "        if total == 0: \n",
        "            empty.append(total)\n",
        "    if len(empty)>1:\n",
        "        return True\n",
        "    else:\n",
        "        return False"
      ],
      "execution_count": null,
      "outputs": []
    },
    {
      "cell_type": "code",
      "metadata": {
        "id": "ZXwphfpzS7bZ"
      },
      "source": [
        "def constrain(table,eq):\n",
        "    if add_cons(table) == True:\n",
        "        lc = len(table[0,:])\n",
        "        lr = len(table[:,0])\n",
        "        var = lc - lr -1      \n",
        "        j = 0\n",
        "        while j < lr:            \n",
        "            row_check = table[j,:]\n",
        "            total = 0\n",
        "            for i in row_check:\n",
        "                total += float(i**2)\n",
        "            if total == 0:                \n",
        "                row = row_check\n",
        "                break\n",
        "            j +=1\n",
        "        eq = convert(eq)\n",
        "        i = 0\n",
        "        while i<len(eq)-1:\n",
        "            row[i] = eq[i]\n",
        "            i +=1        \n",
        "        row[-1] = eq[-1]\n",
        "        row[var+j] = 1    \n",
        "    else:\n",
        "        print('Cannot add another constraint.')"
      ],
      "execution_count": null,
      "outputs": []
    },
    {
      "cell_type": "code",
      "metadata": {
        "id": "W1Oias_xTvDq"
      },
      "source": [
        "def add_obj(table):\n",
        "    lr = len(table[:,0])\n",
        "    empty = []\n",
        "    for i in range(lr):\n",
        "        total = 0        \n",
        "        for j in table[i,:]:\n",
        "            total += j**2\n",
        "        if total == 0:\n",
        "            empty.append(total)    \n",
        "    if len(empty)==1:\n",
        "        return True\n",
        "    else:\n",
        "        return False"
      ],
      "execution_count": null,
      "outputs": []
    },
    {
      "cell_type": "code",
      "metadata": {
        "id": "VGDdzAKQT_Gk"
      },
      "source": [
        "def obj(table,eq):\n",
        "    if add_obj(table)==True:\n",
        "        eq = [float(i) for i in eq.split(',')]\n",
        "        lr = len(table[:,0])\n",
        "        row = table[lr-1,:]\n",
        "        i = 0        \n",
        "        while i<len(eq)-1:\n",
        "            row[i] = eq[i]*-1\n",
        "            i +=1\n",
        "        row[-2] = 1\n",
        "        row[-1] = eq[-1]\n",
        "    else:\n",
        "        print('You must finish adding constraints before the objective function can be added.')"
      ],
      "execution_count": null,
      "outputs": []
    },
    {
      "cell_type": "code",
      "metadata": {
        "id": "sjzpJraPUYrx"
      },
      "source": [
        "def maxz(table):\n",
        "    while next_round_r(table)==True:\n",
        "        table = pivot(loc_piv_r(table)[0],loc_piv_r(table)[1],table)\n",
        "    while next_round(table)==True:\n",
        "        table = pivot(loc_piv(table)[0],loc_piv(table)[1],table)        \n",
        "    lc = len(table[0,:])\n",
        "    lr = len(table[:,0])\n",
        "    var = lc - lr -1\n",
        "    i = 0\n",
        "    val = {}\n",
        "    for i in range(var):\n",
        "        col = table[:,i]\n",
        "        s = sum(col)\n",
        "        m = max(col)\n",
        "        if float(s) == float(m):\n",
        "            loc = np.where(col == m)[0][0]            \n",
        "            val[gen_var(table)[i]] = table[loc,-1]\n",
        "        else:\n",
        "            val[gen_var(table)[i]] = 0\n",
        "    val['max'] = table[-1,-1]\n",
        "    return val"
      ],
      "execution_count": null,
      "outputs": []
    },
    {
      "cell_type": "code",
      "metadata": {
        "id": "ni0TGLMyVN_5"
      },
      "source": [
        "def minz(table):\n",
        "    table = convert_min(table)\n",
        "    while next_round_r(table)==True:\n",
        "        table = pivot(loc_piv_r(table)[0],loc_piv_r(table)[1],table)    \n",
        "    while next_round(table)==True:\n",
        "        table = pivot(loc_piv(table)[0],loc_piv(table)[1],table)       \n",
        "    lc = len(table[0,:])\n",
        "    lr = len(table[:,0])\n",
        "    var = lc - lr -1\n",
        "    i = 0\n",
        "    val = {}\n",
        "    for i in range(var):\n",
        "        col = table[:,i]\n",
        "        s = sum(col)\n",
        "        m = max(col)\n",
        "        if float(s) == float(m):\n",
        "            loc = np.where(col == m)[0][0]             \n",
        "            val[gen_var(table)[i]] = table[loc,-1]\n",
        "        else:\n",
        "            val[gen_var(table)[i]] = 0 \n",
        "            val['min'] = table[-1,-1]*-1\n",
        "    return val"
      ],
      "execution_count": null,
      "outputs": []
    },
    {
      "cell_type": "markdown",
      "metadata": {
        "id": "p43UyCEplYPT"
      },
      "source": [
        "### Maximizar:\n",
        "  $$Z = 5X_1 + 8X_2 $$\n",
        "  $$    2X_1 + 4X_2 <= 40$$\n",
        "  $$    6X_1 + 3X_2 <= 42$$\n",
        "  $$    X_1 >= 3$$\n",
        "\n"
      ]
    },
    {
      "cell_type": "code",
      "metadata": {
        "id": "AqWIlmk0WAFp",
        "outputId": "245c84c7-5133-4afd-abcd-3aaa96cc0f82",
        "colab": {
          "base_uri": "https://localhost:8080/"
        }
      },
      "source": [
        "if __name__ == \"__main__\":\n",
        "    m = gen_matrix(2,3)\n",
        "    constrain(m,'2,4,L,40')\n",
        "    constrain(m,'6,3,L,42')\n",
        "    constrain(m,'1,0,G,3')\n",
        "    obj(m,'5,8,0')\n",
        "    print('Resultado: ', maxz(m))   "
      ],
      "execution_count": null,
      "outputs": [
        {
          "output_type": "stream",
          "text": [
            "Resultado:  {'x1': 3.0, 'x2': 8.0, 'max': 79.0}\n"
          ],
          "name": "stdout"
        }
      ]
    }
  ]
}