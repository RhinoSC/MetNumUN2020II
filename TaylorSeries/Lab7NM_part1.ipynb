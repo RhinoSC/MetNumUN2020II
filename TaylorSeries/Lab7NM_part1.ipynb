{
  "nbformat": 4,
  "nbformat_minor": 0,
  "metadata": {
    "colab": {
      "name": "Lab7NM-part1.ipynb",
      "provenance": []
    },
    "kernelspec": {
      "name": "python3",
      "display_name": "Python 3"
    }
  },
  "cells": [
    {
      "cell_type": "markdown",
      "metadata": {
        "id": "Z3wGqV7ezrJm"
      },
      "source": [
        "#Taylor Series with Python"
      ]
    },
    {
      "cell_type": "code",
      "metadata": {
        "id": "EvIeByanxNb2"
      },
      "source": [
        "import math\n",
        "import numpy as np\n",
        "import matplotlib.pyplot as plt"
      ],
      "execution_count": 1,
      "outputs": []
    },
    {
      "cell_type": "markdown",
      "metadata": {
        "id": "psO2E4U3xVrr"
      },
      "source": [
        "Code the Taylor Series by writing out each term individually"
      ]
    },
    {
      "cell_type": "code",
      "metadata": {
        "id": "kKVW75-OxZU7",
        "outputId": "f56539e1-eeb7-4929-ce86-dd0d4b711b8f",
        "colab": {
          "base_uri": "https://localhost:8080/"
        }
      },
      "source": [
        "x = 2\n",
        "e_to_2 = x**0/math.factorial(0) + x**1/math.factorial(1) + x**2/math.factorial(2) + x**3/math.factorial(3) + x**4/math.factorial(4)\n",
        "print(\"Taylor series: \", e_to_2)\n",
        "print(\"exp() function: \", math.exp(2))"
      ],
      "execution_count": 2,
      "outputs": [
        {
          "output_type": "stream",
          "text": [
            "Taylor series:  7.0\n",
            "exp() function:  7.38905609893065\n"
          ],
          "name": "stdout"
        }
      ]
    },
    {
      "cell_type": "markdown",
      "metadata": {
        "id": "W0R_A7_ixumZ"
      },
      "source": [
        "Use a for loop function to calculate a Taylor Series"
      ]
    },
    {
      "cell_type": "code",
      "metadata": {
        "id": "x4otijxLxwLa"
      },
      "source": [
        "def func_e(x, n):\n",
        "  e_approx = 0\n",
        "  for i in range(n):\n",
        "    e_approx += x**i/math.factorial(i) \n",
        "  \n",
        "  return e_approx"
      ],
      "execution_count": 3,
      "outputs": []
    },
    {
      "cell_type": "code",
      "metadata": {
        "id": "l3QHvyhryJ18",
        "outputId": "6121f3f9-9a13-41b5-9e00-70052c4070e2",
        "colab": {
          "base_uri": "https://localhost:8080/"
        }
      },
      "source": [
        "out = func_e(2, 10)\n",
        "print(out)"
      ],
      "execution_count": 4,
      "outputs": [
        {
          "output_type": "stream",
          "text": [
            "7.3887125220458545\n"
          ],
          "name": "stdout"
        }
      ]
    },
    {
      "cell_type": "code",
      "metadata": {
        "id": "AvY-GgkeyPDS",
        "outputId": "9bfbcb07-fa53-49d2-b3f1-545059878665",
        "colab": {
          "base_uri": "https://localhost:8080/"
        }
      },
      "source": [
        "out = func_e(5, 10)\n",
        "print(\"Taylor series: \", out)\n",
        "out = math.exp(5)\n",
        "print(\"exp() function: \", out)"
      ],
      "execution_count": 5,
      "outputs": [
        {
          "output_type": "stream",
          "text": [
            "Taylor series:  143.68945656966488\n",
            "exp() function:  148.4131591025766\n"
          ],
          "name": "stdout"
        }
      ]
    },
    {
      "cell_type": "markdown",
      "metadata": {
        "id": "ujRZdxq2ybcD"
      },
      "source": [
        "Use a for loop to calculate the difference between the Taylor Series expansion and Python's exp() function"
      ]
    },
    {
      "cell_type": "code",
      "metadata": {
        "id": "G_5D7XEOycCt",
        "outputId": "41a2df33-7a20-432b-b86b-0b5582fdf62e",
        "colab": {
          "base_uri": "https://localhost:8080/"
        }
      },
      "source": [
        "x = 5\n",
        "for i in range(1,11):\n",
        "    e_approx = func_e(x,i)\n",
        "    e_exp = math.exp(x)\n",
        "    e_error = abs(e_approx - e_exp)\n",
        "    print(f'{i} terms: Taylor Series approx= {e_approx}, exp calc= {e_exp}, error = {e_error}')"
      ],
      "execution_count": 6,
      "outputs": [
        {
          "output_type": "stream",
          "text": [
            "1 terms: Taylor Series approx= 1.0, exp calc= 148.4131591025766, error = 147.4131591025766\n",
            "2 terms: Taylor Series approx= 6.0, exp calc= 148.4131591025766, error = 142.4131591025766\n",
            "3 terms: Taylor Series approx= 18.5, exp calc= 148.4131591025766, error = 129.9131591025766\n",
            "4 terms: Taylor Series approx= 39.33333333333333, exp calc= 148.4131591025766, error = 109.07982576924327\n",
            "5 terms: Taylor Series approx= 65.375, exp calc= 148.4131591025766, error = 83.0381591025766\n",
            "6 terms: Taylor Series approx= 91.41666666666667, exp calc= 148.4131591025766, error = 56.99649243590993\n",
            "7 terms: Taylor Series approx= 113.11805555555556, exp calc= 148.4131591025766, error = 35.29510354702104\n",
            "8 terms: Taylor Series approx= 128.61904761904762, exp calc= 148.4131591025766, error = 19.79411148352898\n",
            "9 terms: Taylor Series approx= 138.30716765873015, exp calc= 148.4131591025766, error = 10.105991443846449\n",
            "10 terms: Taylor Series approx= 143.68945656966488, exp calc= 148.4131591025766, error = 4.723702532911716\n"
          ],
          "name": "stdout"
        }
      ]
    },
    {
      "cell_type": "markdown",
      "metadata": {
        "id": "26SzCoC4yk5T"
      },
      "source": [
        "Use a break statement to exit a for loop early."
      ]
    },
    {
      "cell_type": "code",
      "metadata": {
        "id": "bYpUA7_KymSs",
        "outputId": "fac5d6d1-80a2-47c9-971a-e7d1ed5e4140",
        "colab": {
          "base_uri": "https://localhost:8080/"
        }
      },
      "source": [
        "x = 5\n",
        "for i in range(1,20):\n",
        "    e_approx = func_e(x,i)\n",
        "    e_exp = math.exp(x)\n",
        "    e_error = abs(e_approx - e_exp)\n",
        "    if e_error < 1:\n",
        "        break\n",
        "        \n",
        "print(f'{i} terms: Taylor Series approx= {e_approx}, exp calc= {e_exp}, error = {e_error}')"
      ],
      "execution_count": 7,
      "outputs": [
        {
          "output_type": "stream",
          "text": [
            "12 terms: Taylor Series approx= 147.60384850489015, exp calc= 148.4131591025766, error = 0.8093105976864479\n"
          ],
          "name": "stdout"
        }
      ]
    },
    {
      "cell_type": "markdown",
      "metadata": {
        "id": "tafqNeHSyo_7"
      },
      "source": [
        "Create a function to estimate the value of cos(x) using a Taylor Series"
      ]
    },
    {
      "cell_type": "code",
      "metadata": {
        "id": "pAoY7F3yyphj"
      },
      "source": [
        "def func_cos(x, n):\n",
        "    cos_approx = 0\n",
        "    for i in range(n):\n",
        "        coef = (-1)**i\n",
        "        num = x**(2*i)\n",
        "        denom = math.factorial(2*i)\n",
        "        cos_approx += ( coef ) * ( (num)/(denom) )\n",
        "    \n",
        "    return cos_approx"
      ],
      "execution_count": 8,
      "outputs": []
    },
    {
      "cell_type": "code",
      "metadata": {
        "id": "LVnMq2GqyuzY",
        "outputId": "a76b629d-d717-45bf-89bd-a05a556cb6eb",
        "colab": {
          "base_uri": "https://localhost:8080/"
        }
      },
      "source": [
        "angle_rad = (math.radians(45))\n",
        "out = func_cos(angle_rad,5)\n",
        "print(\"Taylor series for cosine: \", out)\n",
        "out = math.cos(angle_rad)\n",
        "print(\"Cosine function: \", out)"
      ],
      "execution_count": 9,
      "outputs": [
        {
          "output_type": "stream",
          "text": [
            "Taylor series for cosine:  0.7071068056832942\n",
            "Cosine function:  0.7071067811865476\n"
          ],
          "name": "stdout"
        }
      ]
    },
    {
      "cell_type": "markdown",
      "metadata": {
        "id": "-ocwDGMLy6XF"
      },
      "source": [
        "Build a plot to compare the Taylor Series approximation to Python's cos() function"
      ]
    },
    {
      "cell_type": "code",
      "metadata": {
        "id": "9y0bXLNsy66D",
        "outputId": "799a617c-e3fb-4056-cab5-72c2e872c239",
        "colab": {
          "base_uri": "https://localhost:8080/",
          "height": 269
        }
      },
      "source": [
        "angles = np.arange(-2*np.pi,2*np.pi,0.1)\n",
        "p_cos = np.cos(angles)\n",
        "\n",
        "fig, ax = plt.subplots()\n",
        "ax.plot(angles,p_cos)\n",
        "\n",
        "# add lines for between 1 and 6 terms in the Taylor Series\n",
        "for i in range(1,6):\n",
        "    t_cos = [func_cos(angle,i) for angle in angles]\n",
        "    ax.plot(angles,t_cos)\n",
        "\n",
        "ax.set_ylim([-7,4])\n",
        "\n",
        "# set up legend\n",
        "legend_lst = ['cos() function']\n",
        "for i in range(1,6):\n",
        "    legend_lst.append(f'Taylor Series - {i} terms')\n",
        "ax.legend(legend_lst, loc=3)\n",
        "\n",
        "plt.show()"
      ],
      "execution_count": 10,
      "outputs": [
        {
          "output_type": "display_data",
          "data": {
            "image/png": "[encoded data removed]",
            "text/plain": [
              "<Figure size 432x288 with 1 Axes>"
            ]
          },
          "metadata": {
            "tags": [],
            "needs_background": "light"
          }
        }
      ]
    }
  ]
}